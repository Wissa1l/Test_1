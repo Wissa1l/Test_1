{
 "cells": [
  {
   "cell_type": "markdown",
   "id": "2626b2eb-3556-4b58-a91f-05767f08cb20",
   "metadata": {},
   "source": [
    "# Data Science Tools and Ecosystem"
   ]
  },
  {
   "cell_type": "markdown",
   "id": "5fd7d25c-9230-492f-be73-43b473847e24",
   "metadata": {
    "tags": []
   },
   "source": [
    "In this notebook, Data Science Tools and Ecosystem are summarized."
   ]
  },
  {
   "cell_type": "markdown",
   "id": "2ed1a0d2-1819-45f8-b4c7-32a542db79f5",
   "metadata": {},
   "source": [
    "**Objectives:**\n",
    "\n",
    "- List popular languages for Data Science.\n",
    "- Introduce common Data Science libraries.\n",
    "- Overview Data Science tools and ecosystems.\n",
    "- Demonstrate arithmetic operations in Python.\n",
    "- Convert minutes to hours using Python."
   ]
  },
  {
   "cell_type": "markdown",
   "id": "39bdeba4-dd75-4b4f-b4d0-74b2aa6f6f2a",
   "metadata": {},
   "source": [
    "## Author\n",
    "Wissal Annan"
   ]
  },
  {
   "cell_type": "markdown",
   "id": "97239d67-53ce-4b7a-b829-4f776d3c6c93",
   "metadata": {},
   "source": [
    "### Some of the popular languages that Data Scientists use are:\n",
    "\n",
    "1. Python\n",
    "2. R\n",
    "3. SQL\n",
    "4. Julia\n",
    "5. Scala"
   ]
  },
  {
   "cell_type": "markdown",
   "id": "d2a6241f-c9ae-4feb-9cec-161bcdd34aa8",
   "metadata": {},
   "source": [
    "## Some of the commonly used libraries used by Data Scientists include:\n",
    "\n",
    "1. NumPy\n",
    "2. Pandas\n",
    "3. Matplotlib\n",
    "4. Scikit-learn\n",
    "5. TensorFlow\n",
    "6. PyTorch"
   ]
  },
  {
   "cell_type": "markdown",
   "id": "84376461-f31d-443a-a214-73cc23f5d0d3",
   "metadata": {},
   "source": [
    "| Data Science Tools |\n",
    "|-------------------|\n",
    "| Jupyter Notebook  |\n",
    "| RStudio           |\n",
    "| Visual Studio Code|"
   ]
  },
  {
   "cell_type": "markdown",
   "id": "4a645849-1416-46d6-a279-5e67fd280c27",
   "metadata": {},
   "source": [
    "### Below are a few examples of evaluating arithmetic expressions in Python."
   ]
  },
  {
   "cell_type": "markdown",
   "id": "ed14225c-c35c-48b0-ae9e-7e3487a85192",
   "metadata": {},
   "source": [
    "- Addition: `3 + 5`\n",
    "- Subtraction: `10 - 4`\n",
    "- Multiplication: `6 * 7`\n",
    "- Division: `15 / 3`\n",
    "- Exponentiation: `2 ** 4`\n",
    "- Modulo: `10 % 3`"
   ]
  },
  {
   "cell_type": "code",
   "execution_count": 1,
   "id": "a9a71133-8f9c-4907-a984-818b0e639422",
   "metadata": {
    "tags": []
   },
   "outputs": [],
   "source": [
    "# This is a simple arithmetic expression to multiply then add integers.\n",
    "result = (3 * 4) + 5"
   ]
  },
  {
   "cell_type": "code",
   "execution_count": 2,
   "id": "0aa7da5d-1310-4e36-adb2-d733f7d35f03",
   "metadata": {
    "tags": []
   },
   "outputs": [
    {
     "data": {
      "text/plain": [
       "17"
      ]
     },
     "execution_count": 2,
     "metadata": {},
     "output_type": "execute_result"
    }
   ],
   "source": [
    "result"
   ]
  },
  {
   "cell_type": "code",
   "execution_count": 3,
   "id": "e7e646a6-1b70-4291-bf03-983a785e91e4",
   "metadata": {
    "tags": []
   },
   "outputs": [],
   "source": [
    "# This will convert 200 minutes to hours by dividing by 60.\n",
    "minutes = 200\n",
    "hours = minutes / 60"
   ]
  },
  {
   "cell_type": "code",
   "execution_count": 4,
   "id": "e4af31b2-7ba8-4a8e-b0e6-04420b3f9ccf",
   "metadata": {
    "tags": []
   },
   "outputs": [
    {
     "data": {
      "text/plain": [
       "3.3333333333333335"
      ]
     },
     "execution_count": 4,
     "metadata": {},
     "output_type": "execute_result"
    }
   ],
   "source": [
    "hours"
   ]
  },
  {
   "cell_type": "code",
   "execution_count": null,
   "id": "62fd8966-0b87-4b74-96de-3bc05aa4b0d6",
   "metadata": {},
   "outputs": [],
   "source": []
  }
 ],
 "metadata": {
  "kernelspec": {
   "display_name": "Python",
   "language": "python",
   "name": "conda-env-python-py"
  },
  "language_info": {
   "codemirror_mode": {
    "name": "ipython",
    "version": 3
   },
   "file_extension": ".py",
   "mimetype": "text/x-python",
   "name": "python",
   "nbconvert_exporter": "python",
   "pygments_lexer": "ipython3",
   "version": "3.7.12"
  }
 },
 "nbformat": 4,
 "nbformat_minor": 5
}
